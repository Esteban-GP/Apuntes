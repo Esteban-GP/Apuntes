{
 "cells": [
  {
   "cell_type": "markdown",
   "metadata": {},
   "source": [
    "# Ejercicios `while`"
   ]
  },
  {
   "cell_type": "markdown",
   "metadata": {},
   "source": [
    "## Hoja de ruta\n",
    "Si acabas de empezar a programar, deberías ser capaz de resolver los ejercicios del 1 al 4."
   ]
  },
  {
   "cell_type": "markdown",
   "metadata": {},
   "source": [
    "## Ejercicio 1\n",
    "\n",
    "Pide al usuario que escriba una contraseña y utiliza un bucle while para seguir pidiendo la contraseña hasta que coincida aquella almacenada previamente en una variable."
   ]
  },
  {
   "cell_type": "code",
   "execution_count": null,
   "metadata": {},
   "outputs": [],
   "source": [
    "contrasena = \"1234\"\n",
    "intento = \"\"\n",
    "\n",
    "while intento != contrasena:\n",
    "    intento = input(\"Introduce la contraseña: \")\n",
    "    \n",
    "print(\"Bienvenidx, contraseña correcta\")"
   ]
  },
  {
   "cell_type": "markdown",
   "metadata": {},
   "source": [
    "## Ejercicio 2\n",
    "\n",
    "Implementa un programa que muestre continuamente este menú hasta que el usuario elija la opción de salir:\n",
    "```\n",
    "    1. Saludar\n",
    "    2. Despedir\n",
    "    3. Salir\n",
    "```\n",
    "\n",
    "Si el usuario elige \"Saludar\", el programa escribirá \"Hola\"; si elige \"Despedir\", escribirá \"Adiós\"; si elige \"Salir\", se detendrá la ejecución del programa."
   ]
  },
  {
   "cell_type": "code",
   "execution_count": null,
   "metadata": {},
   "outputs": [],
   "source": [
    "opcion = 0\n",
    "\n",
    "while opcion != 3:\n",
    "    print('''\n",
    "          1. Saludar\n",
    "          2. Despedir\n",
    "          3. Salir\n",
    "          ''')\n",
    "    opcion = int(input(\"Escoge una opción: \"))\n",
    "    if opcion == 1:\n",
    "        print(\"Hola\")\n",
    "    elif opcion == 2:\n",
    "        print(\"Adiós\")\n",
    "    elif opcion == 3:\n",
    "        print(\"Has decidido terminar, ¡hasta la vista!\")\n",
    "    else:\n",
    "        print(\"Opción incorrecta\")"
   ]
  },
  {
   "cell_type": "markdown",
   "metadata": {},
   "source": [
    "\n",
    "## Ejercicio 3\n",
    "\n",
    "Implementa un programa que muestre al usuario los múltiplos de un número:\n",
    "\n",
    "1. Inicialmente, pregunta al usuario el número del que mostrar los múltiplos.\n",
    "2. A continuación, muestra cada múltiplo y pregunta al usuario si quiere seguir mostrando múltiplos.\n",
    "3. El programa continúa hasta que el usuario dice que no quiere ver más múltiplos.\n",
    "\n",
    "Ejemplo de ejecución:\n",
    "\n",
    "```\n",
    "Escribe un número para ver sus múltiplos: 3\n",
    "3\n",
    "¿Quiere ver más múltiplos? (s/n): s\n",
    "6\n",
    "¿Quiere ver más múltiplos? (s/n): s\n",
    "9\n",
    "¿Quiere ver más múltiplos? (s/n): n\n",
    "¡Hasta luego!\n",
    "```"
   ]
  },
  {
   "cell_type": "code",
   "execution_count": null,
   "metadata": {},
   "outputs": [],
   "source": [
    "print(\"Te voy a mostrar los múltiplos del número que me indiques.\")\n",
    "numero = int(input(\"Escribe un número: \"))\n",
    "respuesta = \"s\"\n",
    "multiplo = 0\n",
    "while respuesta != \"n\":\n",
    "    multiplo = multiplo + numero # multiplo += numero\n",
    "    print(multiplo)\n",
    "    respuesta = input(\"¿Quiere ver más múltiplos? (s/n):\")\n"
   ]
  },
  {
   "cell_type": "markdown",
   "metadata": {},
   "source": [
    "Cambio del ejercicio para preguntar al usuario al principio cuántos múltiplos quiere:"
   ]
  },
  {
   "cell_type": "code",
   "execution_count": null,
   "metadata": {},
   "outputs": [],
   "source": [
    "print(\"Te voy a mostrar los múltiplos del número que me indiques.\")\n",
    "numero = int(input(\"Escribe un número: \"))\n",
    "num_multiplos = int(input(\"¿Cuántos múltiplos quieres que muestre?\"))\n",
    "multiplo = 0\n",
    "\n",
    "for i in range(num_multiplos):\n",
    "    multiplo = multiplo + numero # multiplo += numero\n",
    "    print(multiplo)"
   ]
  },
  {
   "cell_type": "code",
   "execution_count": null,
   "metadata": {},
   "outputs": [],
   "source": [
    "print(\"Te voy a mostrar los múltiplos del número que me indiques.\")\n",
    "numero = int(input(\"Escribe un número: \"))\n",
    "num_multiplos = int(input(\"¿Cuántos múltiplos quieres que muestre?\"))\n",
    "\n",
    "for multiplo in range(numero, numero * num_multiplos + 1, numero):\n",
    "    print(multiplo)"
   ]
  },
  {
   "cell_type": "code",
   "execution_count": null,
   "metadata": {},
   "outputs": [],
   "source": [
    "print(\"Te voy a mostrar los múltiplos del número que me indiques.\")\n",
    "numero = int(input(\"Escribe un número: \"))\n",
    "num_multiplos = int(input(\"¿Cuántos múltiplos quieres que muestre?\"))\n",
    "\n",
    "# for i in range(1, num_multiplos + 1):\n",
    "#     print(i * numero)\n",
    "\n",
    "for i in range(num_multiplos):\n",
    "    print((i + 1) * numero)"
   ]
  },
  {
   "cell_type": "markdown",
   "metadata": {},
   "source": [
    "## Ejercicio 4\n",
    "\n",
    "Una de las pruebas del torneo de los tres magos consiste en salir de una habitación adivinando un número secreto, para eso Dumbledore decidió aprovechar las nuevas tecnologías y quiere que crees un programa en Python que almacene en una variable el número secreto y sea capaz de comprobar tantas veces como sea preciso si los números indicados por los campeones son los correctos, para eso:\n",
    "- Debe preguntar un número hasta que se acierte el correcto.\n",
    "- Si el campeón no acierta, el programa devuelve `“Hahaha, estás atrapado en mi bucle”`\n",
    "- Si el campeón acierta, el programa devuelve `“Bien hecho. Eres libre!”`"
   ]
  },
  {
   "cell_type": "code",
   "execution_count": 1,
   "metadata": {},
   "outputs": [
    {
     "name": "stdout",
     "output_type": "stream",
     "text": [
      "Estás atrapado en mi bucle\n",
      "Estás atrapado en mi bucle\n",
      "Estás atrapado en mi bucle\n",
      "Estás atrapado en mi bucle\n",
      "Estás atrapado en mi bucle\n",
      "Estás atrapado en mi bucle\n",
      "Estás atrapado en mi bucle\n",
      "Bien hecho. Eres libre!\n"
     ]
    }
   ],
   "source": [
    "num_secreto = 1234\n",
    "numero_usuario = 0\n",
    "\n",
    "while numero_usuario != num_secreto:\n",
    "    print(\"Estás atrapado en mi bucle\")\n",
    "    numero_usuario = int(input(\"Escribe un número:\"))\n",
    "\n",
    "print(\"Bien hecho. Eres libre!\")"
   ]
  },
  {
   "cell_type": "markdown",
   "metadata": {},
   "source": [
    "\n",
    "## Ejercicio 5\n",
    "\n",
    "\n",
    "Implementa un programa que calcule cuantos números naturales (1, 2, 3, 4...) debemos sumar en secuencia para obtener por lo menos un valor de 200000, es decir: hasta qué valor llegará el sumatorio `1 + 2 + 3 + 4 + 5 + ...` para que la suma alcance el valor 200000? Debes devolver el último número que se suma.\n",
    "\n",
    "El resultado es 632."
   ]
  },
  {
   "cell_type": "code",
   "execution_count": 3,
   "metadata": {},
   "outputs": [
    {
     "name": "stdout",
     "output_type": "stream",
     "text": [
      "632\n"
     ]
    }
   ],
   "source": [
    "sumatorio = 0\n",
    "i = 0\n",
    "\n",
    "while sumatorio < 200000:\n",
    "    i += 1\n",
    "    sumatorio += i\n",
    "\n",
    "print(i)"
   ]
  },
  {
   "cell_type": "markdown",
   "metadata": {},
   "source": [
    "## Ejercicio 6\n",
    "\n",
    "Implementa un programa que pida por teclado la fecha de nacimiento de una persona (día, mes, año) y calcule su número de la suerte.\n",
    "\n",
    "El número de la suerte se calcula sumando el día, mes y año de la fecha de nacimiento y, a continuación, sumando las cifras obtenidas en la suma.\n",
    "\n",
    "Por ejemplo, si la fecha de nacimiento es 12/07/1980, calculamos el número de la suerte así: 12 + 7 + 1980 = 1999  -> 1+9+9+9 = 28\n",
    "\n",
    "Número de la suerte: 28\n"
   ]
  },
  {
   "cell_type": "code",
   "execution_count": 5,
   "metadata": {},
   "outputs": [
    {
     "name": "stdout",
     "output_type": "stream",
     "text": [
      "Introduce tu fecha de nacimiento:\n",
      "Tu número de la suerte es 28\n"
     ]
    }
   ],
   "source": [
    "print(\"Introduce tu fecha de nacimiento:\")\n",
    "dia = int(input(\"Día: \"))\n",
    "mes = int(input(\"Mes: \"))\n",
    "anho = int(input(\"Año: \"))\n",
    "\n",
    "suma = dia + mes + anho\n",
    "\n",
    "numero_suerte = 0\n",
    "\n",
    "while suma != 0:\n",
    "    digito = suma % 10\n",
    "    numero_suerte += digito\n",
    "    suma = suma // 10 # suma //= 10\n",
    "\n",
    "print(\"Tu número de la suerte es\", numero_suerte)\n"
   ]
  },
  {
   "cell_type": "code",
   "execution_count": 8,
   "metadata": {},
   "outputs": [
    {
     "name": "stdout",
     "output_type": "stream",
     "text": [
      "Introduce tu fecha de nacimiento:\n",
      "Tu número de la suerte es 11\n"
     ]
    }
   ],
   "source": [
    "print(\"Introduce tu fecha de nacimiento:\")\n",
    "dia = int(input(\"Día: \"))\n",
    "mes = int(input(\"Mes: \"))\n",
    "anho = int(input(\"Año: \"))\n",
    "\n",
    "suma = dia + mes + anho\n",
    "suma = str(suma)\n",
    "\n",
    "numero_suerte = 0\n",
    "\n",
    "for letra in suma:\n",
    "    digito = int(letra)\n",
    "    numero_suerte += digito\n",
    "\n",
    "print(\"Tu número de la suerte es\", numero_suerte)"
   ]
  }
 ],
 "metadata": {
  "kernelspec": {
   "display_name": "Python 3",
   "language": "python",
   "name": "python3"
  },
  "language_info": {
   "codemirror_mode": {
    "name": "ipython",
    "version": 3
   },
   "file_extension": ".py",
   "mimetype": "text/x-python",
   "name": "python",
   "nbconvert_exporter": "python",
   "pygments_lexer": "ipython3",
   "version": "3.11.5"
  },
  "orig_nbformat": 4
 },
 "nbformat": 4,
 "nbformat_minor": 2
}
