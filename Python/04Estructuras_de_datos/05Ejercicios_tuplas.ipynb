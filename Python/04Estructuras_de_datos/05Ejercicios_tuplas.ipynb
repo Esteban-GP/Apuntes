{
 "cells": [
  {
   "cell_type": "markdown",
   "metadata": {},
   "source": [
    "# Ejercicios\n",
    "\n",
    "## Ejercicio 1\n",
    "\n",
    "Utilizando una tupla, escribe una función a la que se le pase el número del mes y devuelva su nombre.\n",
    "\n",
    "Crea un programa principal para probarla.\n"
   ]
  },
  {
   "cell_type": "code",
   "execution_count": 1,
   "metadata": {},
   "outputs": [
    {
     "name": "stdout",
     "output_type": "stream",
     "text": [
      "Enero\n"
     ]
    }
   ],
   "source": [
    "def nombre_mes(mes: int) -> str:\n",
    "    meses = ('Enero', 'Febrero', 'Marzo', 'Abril', 'Mayo', 'Junio', 'Julio', 'Agosto',\n",
    "         'Septiembre', 'Octubre', 'Noviembre', 'Diciembre')\n",
    "    if mes < 1 or mes > 12:\n",
    "        return 'Mes incorrecto'\n",
    "    else:\n",
    "        return meses[mes-1]\n",
    "\n",
    "print(nombre_mes(1))\n"
   ]
  },
  {
   "cell_type": "markdown",
   "metadata": {},
   "source": [
    "## Ejercicio 2\n",
    "\n",
    "Busca el algoritmo para calcular la letra del DNI y crea una función que use listas para devolver la letra del mismo."
   ]
  },
  {
   "cell_type": "code",
   "execution_count": 2,
   "metadata": {},
   "outputs": [
    {
     "name": "stdout",
     "output_type": "stream",
     "text": [
      "Z\n"
     ]
    }
   ],
   "source": [
    "def letra_dni(dni: int) -> str:\n",
    "    letras_dni = ('T', 'R', 'W', 'A', 'G', 'M', 'Y', 'F', 'P', 'D', \n",
    "                  'X', 'B', 'N', 'J', 'Z', 'S', 'Q', 'V', 'H', 'L', \n",
    "                  'C', 'K', 'E')\n",
    "    resto = dni % 23\n",
    "    return letras_dni[resto]\n",
    "    # return letras_dni[dni % 23]\n",
    "\n",
    "print(letra_dni(12345678))"
   ]
  },
  {
   "cell_type": "markdown",
   "metadata": {},
   "source": [
    "# Ejercicio 3\n",
    "\n",
    "Crea una función a la que se le pase un día de la semana y devuelva el siguiente, por ejemplo, si le pasamos \"lunes\" nos devolverá \"martes\"."
   ]
  },
  {
   "cell_type": "code",
   "execution_count": 5,
   "metadata": {},
   "outputs": [
    {
     "name": "stdout",
     "output_type": "stream",
     "text": [
      "Martes\n",
      "Lunes\n"
     ]
    }
   ],
   "source": [
    "def siguiente_dia(dia: str) -> str:\n",
    "    dias = ('Lunes', 'Martes', 'Miércoles', 'Jueves', 'Viernes', 'Sábado', 'Domingo')\n",
    "    posicion = dias.index(dia.capitalize());\n",
    "    siguiente = (posicion + 1) % len(dias)\n",
    "    return dias[siguiente]\n",
    "\n",
    "print(siguiente_dia(\"luNEs\"))\n",
    "print(siguiente_dia(\"Domingo\"))\n",
    "    "
   ]
  },
  {
   "cell_type": "markdown",
   "metadata": {},
   "source": [
    "## Ejercicio 4: AVANZADO\n",
    "\n",
    "En matemáticas, el número imaginario $i$ es $\\sqrt{-1}$. Así sus potencias serán:\n",
    "\n",
    "$i^0 = 1$\n",
    "\n",
    "$i^1 = i$\n",
    "\n",
    "$i^2 = -1$\n",
    "\n",
    "$i^3 = -i$\n",
    "\n",
    "$i^4 = 1 $\n",
    "\n",
    "$i^5 = i $\n",
    "\n",
    "$...$\n",
    "\n",
    "Escribe una función a la que se le pase el exponente para una potencia de $i$ y devuelva, como cadena, el resultado.\n",
    "\n",
    "[Ejercicio en codewars] (https://www.codewars.com/kata/5a97387e5ee396e70a00016d/train/python)"
   ]
  },
  {
   "cell_type": "code",
   "execution_count": 6,
   "metadata": {},
   "outputs": [
    {
     "name": "stdout",
     "output_type": "stream",
     "text": [
      "-1\n"
     ]
    }
   ],
   "source": [
    "def potencia_i(exp: int) -> str:\n",
    "    resultados = (\"1\", \"i\", \"-1\", \"-i\")\n",
    "    resto = exp % len(resultados)\n",
    "    return resultados[resto]\n",
    "\n",
    "print(potencia_i(6))"
   ]
  }
 ],
 "metadata": {
  "kernelspec": {
   "display_name": "Python 3",
   "language": "python",
   "name": "python3"
  },
  "language_info": {
   "codemirror_mode": {
    "name": "ipython",
    "version": 3
   },
   "file_extension": ".py",
   "mimetype": "text/x-python",
   "name": "python",
   "nbconvert_exporter": "python",
   "pygments_lexer": "ipython3",
   "version": "3.11.5"
  }
 },
 "nbformat": 4,
 "nbformat_minor": 2
}
