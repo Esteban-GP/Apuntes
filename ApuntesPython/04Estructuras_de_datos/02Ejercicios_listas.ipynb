{
 "cells": [
  {
   "cell_type": "markdown",
   "metadata": {},
   "source": [
    "# Ejercicios\n",
    "\n",
    "## Ejercicio 1\n",
    "\n",
    "Crea una función que pida al usuario 5 números y los guarde en una lista y devuelva esa lista.\n",
    "\n",
    "A continuación, muéstrala en orden inverso a como se introdujeron.\n"
   ]
  },
  {
   "cell_type": "code",
   "execution_count": 8,
   "metadata": {},
   "outputs": [
    {
     "ename": "ValueError",
     "evalue": "could not convert string to float: ''",
     "output_type": "error",
     "traceback": [
      "\u001b[1;31m---------------------------------------------------------------------------\u001b[0m",
      "\u001b[1;31mValueError\u001b[0m                                Traceback (most recent call last)",
      "\u001b[1;32mz:\\Programacion\\apuntes\\04Estructuras_de_datos\\02Ejercicios_listas.ipynb Celda 2\u001b[0m line \u001b[0;36m1\n\u001b[0;32m      <a href='vscode-notebook-cell:/z%3A/Programacion/apuntes/04Estructuras_de_datos/02Ejercicios_listas.ipynb#X52sZmlsZQ%3D%3D?line=7'>8</a>\u001b[0m     \u001b[39mreturn\u001b[39;00m mi_lista\n\u001b[0;32m     <a href='vscode-notebook-cell:/z%3A/Programacion/apuntes/04Estructuras_de_datos/02Ejercicios_listas.ipynb#X52sZmlsZQ%3D%3D?line=9'>10</a>\u001b[0m \u001b[39m# mi_lista = lista()\u001b[39;00m\n\u001b[0;32m     <a href='vscode-notebook-cell:/z%3A/Programacion/apuntes/04Estructuras_de_datos/02Ejercicios_listas.ipynb#X52sZmlsZQ%3D%3D?line=10'>11</a>\u001b[0m \u001b[39m# print(mi_lista)\u001b[39;00m\n\u001b[0;32m     <a href='vscode-notebook-cell:/z%3A/Programacion/apuntes/04Estructuras_de_datos/02Ejercicios_listas.ipynb#X52sZmlsZQ%3D%3D?line=11'>12</a>\u001b[0m \n\u001b[1;32m   (...)\u001b[0m\n\u001b[0;32m     <a href='vscode-notebook-cell:/z%3A/Programacion/apuntes/04Estructuras_de_datos/02Ejercicios_listas.ipynb#X52sZmlsZQ%3D%3D?line=14'>15</a>\u001b[0m \n\u001b[0;32m     <a href='vscode-notebook-cell:/z%3A/Programacion/apuntes/04Estructuras_de_datos/02Ejercicios_listas.ipynb#X52sZmlsZQ%3D%3D?line=15'>16</a>\u001b[0m \u001b[39m#print(list(reversed(lista(6))))\u001b[39;00m\n\u001b[1;32m---> <a href='vscode-notebook-cell:/z%3A/Programacion/apuntes/04Estructuras_de_datos/02Ejercicios_listas.ipynb#X52sZmlsZQ%3D%3D?line=17'>18</a>\u001b[0m mi_lista \u001b[39m=\u001b[39m lista(\u001b[39m5\u001b[39;49m)\n\u001b[0;32m     <a href='vscode-notebook-cell:/z%3A/Programacion/apuntes/04Estructuras_de_datos/02Ejercicios_listas.ipynb#X52sZmlsZQ%3D%3D?line=18'>19</a>\u001b[0m \u001b[39mprint\u001b[39m(mi_lista)\n\u001b[0;32m     <a href='vscode-notebook-cell:/z%3A/Programacion/apuntes/04Estructuras_de_datos/02Ejercicios_listas.ipynb#X52sZmlsZQ%3D%3D?line=19'>20</a>\u001b[0m \u001b[39mprint\u001b[39m(mi_lista[::\u001b[39m-\u001b[39m\u001b[39m1\u001b[39m])\n",
      "\u001b[1;32mz:\\Programacion\\apuntes\\04Estructuras_de_datos\\02Ejercicios_listas.ipynb Celda 2\u001b[0m line \u001b[0;36m6\n\u001b[0;32m      <a href='vscode-notebook-cell:/z%3A/Programacion/apuntes/04Estructuras_de_datos/02Ejercicios_listas.ipynb#X52sZmlsZQ%3D%3D?line=2'>3</a>\u001b[0m mi_lista \u001b[39m=\u001b[39m []\n\u001b[0;32m      <a href='vscode-notebook-cell:/z%3A/Programacion/apuntes/04Estructuras_de_datos/02Ejercicios_listas.ipynb#X52sZmlsZQ%3D%3D?line=4'>5</a>\u001b[0m \u001b[39mfor\u001b[39;00m i \u001b[39min\u001b[39;00m \u001b[39mrange\u001b[39m(tamanho):    \n\u001b[1;32m----> <a href='vscode-notebook-cell:/z%3A/Programacion/apuntes/04Estructuras_de_datos/02Ejercicios_listas.ipynb#X52sZmlsZQ%3D%3D?line=5'>6</a>\u001b[0m     num \u001b[39m=\u001b[39m \u001b[39mfloat\u001b[39;49m(\u001b[39minput\u001b[39;49m(\u001b[39mf\u001b[39;49m\u001b[39m\"\u001b[39;49m\u001b[39mIntroduce el \u001b[39;49m\u001b[39m{\u001b[39;49;00mi\u001b[39m \u001b[39;49m\u001b[39m+\u001b[39;49m\u001b[39m \u001b[39;49m\u001b[39m1\u001b[39;49m\u001b[39m}\u001b[39;49;00m\u001b[39m º: \u001b[39;49m\u001b[39m\"\u001b[39;49m))\n\u001b[0;32m      <a href='vscode-notebook-cell:/z%3A/Programacion/apuntes/04Estructuras_de_datos/02Ejercicios_listas.ipynb#X52sZmlsZQ%3D%3D?line=6'>7</a>\u001b[0m     mi_lista\u001b[39m.\u001b[39mappend (num)\n\u001b[0;32m      <a href='vscode-notebook-cell:/z%3A/Programacion/apuntes/04Estructuras_de_datos/02Ejercicios_listas.ipynb#X52sZmlsZQ%3D%3D?line=7'>8</a>\u001b[0m \u001b[39mreturn\u001b[39;00m mi_lista\n",
      "\u001b[1;31mValueError\u001b[0m: could not convert string to float: ''"
     ]
    }
   ],
   "source": [
    "def lista(tamanho: int) -> list:\n",
    "    \n",
    "    mi_lista = []\n",
    "\n",
    "    for i in range(tamanho):    \n",
    "        num = float(input(f\"Introduce el {i + 1} º: \"))\n",
    "        mi_lista.append (num)\n",
    "    return mi_lista\n",
    "\n",
    "# mi_lista = lista()\n",
    "# print(mi_lista)\n",
    "\n",
    "# mi_lista.reverse()\n",
    "# print(mi_lista)\n",
    "\n",
    "#print(list(reversed(lista(6))))\n",
    "\n",
    "mi_lista = lista(5)\n",
    "print(mi_lista)\n",
    "print(mi_lista[::-1])"
   ]
  },
  {
   "cell_type": "markdown",
   "metadata": {},
   "source": [
    "\n",
    "## Ejercicio 2\n",
    "\n",
    "Usando la función del ejercicio anterior, úsala y después busca el mayor de los números introducidos.\n"
   ]
  },
  {
   "cell_type": "code",
   "execution_count": null,
   "metadata": {},
   "outputs": [],
   "source": [
    "from typing import Union\n",
    "\n",
    "def lista(tamanho: int) -> list:\n",
    "    \n",
    "    mi_lista = []\n",
    "\n",
    "    for i in range(tamanho):    \n",
    "        num = float(input(f\"Introduce el {i + 1} º: \"))\n",
    "        mi_lista.append (num)\n",
    "    return mi_lista\n",
    "\n",
    "def buscar_mayor(lista: list) -> Union[int, None]:\n",
    "    #return max(lista)\n",
    "    if lista == []:\n",
    "        return None\n",
    "    else:\n",
    "        mayor = lista[0]\n",
    "        for i in range(1, len(lista)):\n",
    "            if lista[i] > mayor:\n",
    "                mayor = lista[i]\n",
    "        return mayor\n",
    "\n",
    "print(buscar_mayor(lista(1)))\n",
    "print(buscar_mayor([]))\n"
   ]
  },
  {
   "cell_type": "markdown",
   "metadata": {},
   "source": [
    "\n",
    "## Ejercicio 3\n",
    "\n",
    "A partir de una lista, escribe un programa que cree una lista nueva con los elementos de la primera lista que sean impares.\n"
   ]
  },
  {
   "cell_type": "code",
   "execution_count": null,
   "metadata": {},
   "outputs": [],
   "source": [
    "def eliminar_pares(lista: list) -> list:\n",
    "    nueva =[]\n",
    "    for num in lista:\n",
    "        if num % 2 != 0:\n",
    "            nueva.append(num)\n",
    "    return nueva\n",
    "\n",
    "lista = [5, 4, 3, 1, 6, 9, 9]\n",
    "print (eliminar_pares(lista))\n",
    "\n"
   ]
  },
  {
   "cell_type": "markdown",
   "metadata": {},
   "source": [
    "## Ejercicio 4\n",
    "\n",
    "Escribe una función que reciba una lista de enteros y devuelva otra lista con los dobles de sus elementos.\n"
   ]
  },
  {
   "cell_type": "code",
   "execution_count": null,
   "metadata": {},
   "outputs": [],
   "source": [
    "def dobles(lista: list[int]) -> list[int]:\n",
    "    lista_dobles = []\n",
    "    for valor in lista:\n",
    "        lista_dobles.append(valor * 2)\n",
    "    return lista_dobles\n",
    "\n",
    "lista = [5, 8, 9, 6, 3]\n",
    "print(dobles(lista))\n"
   ]
  },
  {
   "cell_type": "markdown",
   "metadata": {},
   "source": [
    "## Ejercicio 5\n",
    "\n",
    "Usa la función del ejercicio 1 para crear una lista. A continuación, reemplaza todos los números negativos de esa lista por 0."
   ]
  },
  {
   "cell_type": "code",
   "execution_count": null,
   "metadata": {},
   "outputs": [],
   "source": [
    "def lista(tamanho: int) -> list:\n",
    "    \n",
    "    mi_lista = []\n",
    "\n",
    "    for i in range(tamanho):    \n",
    "        num = float(input(f\"Introduce el {i + 1} º: \"))\n",
    "        mi_lista.append (num)\n",
    "    return mi_lista\n",
    "\n",
    "def reemplaza_negativos(lista: list) -> list:\n",
    "    for i in range(len(lista)):\n",
    "        if lista[i] < 0:\n",
    "            lista[i] = 0\n",
    "    return lista\n",
    "\n",
    "mi_lista = lista(5)\n",
    "print(mi_lista)\n",
    "print(reemplaza_negativos(mi_lista))\n"
   ]
  },
  {
   "cell_type": "markdown",
   "metadata": {},
   "source": [
    "## Ejercicio 6\n",
    "\n",
    "Dada una lista de palabras, crea una nueva lista que contenga solo las palabras que tienen más de 5 letras."
   ]
  },
  {
   "cell_type": "code",
   "execution_count": null,
   "metadata": {},
   "outputs": [
    {
     "name": "stdout",
     "output_type": "stream",
     "text": [
      "['manzana', 'platano', 'sandia']\n"
     ]
    }
   ],
   "source": [
    "palabras = [\"manzana\", \"pera\", \"platano\", \"uva\", \"sandia\", \"melon\", \"fresa\", \"kiwi\"]\n",
    "\n",
    "palabras_largas = []\n",
    "\n",
    "for palabra in palabras:\n",
    "    if len(palabra) > 5:\n",
    "        palabras_largas.append(palabra)\n",
    "\n",
    "print(palabras_largas)"
   ]
  },
  {
   "cell_type": "markdown",
   "metadata": {},
   "source": [
    "\n",
    "## Ejercicio 7\n",
    "\n",
    "A partir de una lista, escribe un programa que cree una lista nueva eliminando aquellos que están repetidos."
   ]
  },
  {
   "cell_type": "code",
   "execution_count": null,
   "metadata": {},
   "outputs": [],
   "source": [
    "def eliminar_repetidos(lista: list) -> list:\n",
    "    nueva = []\n",
    "    for valor in lista:\n",
    "        if valor not in nueva:\n",
    "            nueva.append(valor)\n",
    "    return nueva\n",
    "\n",
    "lista = [5, 8, 9, 6, 3, 8, 9, 4, 2, 1, 5, 6, 7, 8, 9, 0, 1, 2, 3]\n",
    "\n",
    "print(eliminar_repetidos(lista))"
   ]
  },
  {
   "cell_type": "markdown",
   "metadata": {},
   "source": [
    "## Ejercicio 8\n",
    "\n",
    "Escribe una función que reciba dos listas y devuelva una tercera con los elementos comunes a ambas."
   ]
  },
  {
   "cell_type": "code",
   "execution_count": null,
   "metadata": {},
   "outputs": [
    {
     "name": "stdout",
     "output_type": "stream",
     "text": [
      "[5, 3, 2]\n"
     ]
    }
   ],
   "source": [
    "def elementos_comunes(lista1: list, lista2: list) -> list:\n",
    "    nueva = []\n",
    "    for valor in lista1:\n",
    "        if valor in lista2 and valor not in nueva:\n",
    "            nueva.append(valor)\n",
    "    return nueva\n",
    "\n",
    "lista1 = [5, 8, 9, 6, 3, 8, 9, 4, 2, 1, 5, 6, 7, 8, 9, 0, 1, 2, 3]\n",
    "lista2 = [12, 3, 2, 5, 11]\n",
    "\n",
    "print(elementos_comunes(lista1, lista2))"
   ]
  },
  {
   "cell_type": "markdown",
   "metadata": {},
   "source": [
    "## Ejercicio 9\n",
    "\n",
    "Utilizando una lista, escribe una función a la que se le pase el número del mes y devuelva su nombre.\n",
    "\n",
    "Crea un programa principal para probarla.\n"
   ]
  },
  {
   "cell_type": "code",
   "execution_count": null,
   "metadata": {},
   "outputs": [],
   "source": [
    "def mes(mes_num: int) -> str:\n",
    "    meses = [\"Enero\", \"Febrero\", \"Marzo\", \"Abril\", \"Mayo\", \"Junio\", \"Julio\", \"Agosto\", \"Septiembre\", \"Octubre\", \"Noviembre\", \"Diciembre\"]\n",
    "    return meses[mes_num - 1]\n",
    "\n",
    "print(mes(9))\n"
   ]
  },
  {
   "cell_type": "markdown",
   "metadata": {},
   "source": [
    "\n",
    "## Ejercicio 10\n",
    "\n",
    "Busca el algoritmo para calcular la letra del DNI y crea una función que use listas para devolver la letra del mismo."
   ]
  },
  {
   "cell_type": "code",
   "execution_count": null,
   "metadata": {},
   "outputs": [],
   "source": [
    "letras_dni = [\"T\", \"R\", \"W\", \"A\", \"G\", \"M\", \"Y\", \"F\", \"P\", \"D\", \"X\", \"B\", \"N\", \"J\", \"Z\", \"S\", \"Q\", \"V\", \"H\", \"L\", \"C\", \"K\", \"E\"]\n",
    "\n"
   ]
  },
  {
   "cell_type": "markdown",
   "metadata": {},
   "source": [
    "# Listas anidadas\n",
    "\n"
   ]
  },
  {
   "cell_type": "markdown",
   "metadata": {},
   "source": [
    "## Ejercicio 11\n",
    "\n",
    "Crea una lista bidimensional con las notas de lxs alumnxs de una clase en los diferentes módulos. Cada fila será un alumnx y cada columna, las notas de un módulo.\n",
    "\n",
    "Calcula la media de notas de un módulo.\n",
    "\n",
    "Crea una nueva lista con las medias de cada uno de los módulos."
   ]
  },
  {
   "cell_type": "code",
   "execution_count": null,
   "metadata": {},
   "outputs": [
    {
     "name": "stdout",
     "output_type": "stream",
     "text": [
      "[3.5, 6.5, 5.5]\n"
     ]
    }
   ],
   "source": [
    "notas = [[2, 4, 9],\n",
    "        [4, 5],\n",
    "        [5, 9, 2],\n",
    "        [5]]\n",
    "\n",
    "medias = []\n",
    "\n",
    "for c in range(len(notas[0])): # Solo se usa si todas las filas tienen el mismo número de columnas\n",
    "    media = 0\n",
    "    for f in range(len(notas)):\n",
    "        media += notas[f][c]\n",
    "    media /= len(notas) # Divido entre el número de filas (alumnxs)\n",
    "    medias.append(media)\n",
    "\n",
    "print(medias)\n"
   ]
  },
  {
   "cell_type": "markdown",
   "metadata": {},
   "source": [
    "## Ejercicio 12\n",
    "\n",
    "Crea una lista bidimensional que contenga los agrupamientos del alumnado de una clase para un determinado proyecto. La lista contendrá otras listas con los componentes de cada grupo.\n",
    "\n",
    "Muestra la lista por pantalla, con los componentes de cada grupo en una misma línea. Haz que no aparezcan los []. Por ejemplo:\n",
    "\n",
    "```python\n",
    "Luis, Juan\n",
    "María, Elba, Mario\n",
    "Carola\n",
    "Pablo, Manuel, Raquel, Uxía\n",
    "```"
   ]
  },
  {
   "cell_type": "code",
   "execution_count": null,
   "metadata": {},
   "outputs": [],
   "source": [
    "grupos = [\n",
    "    [\"Ana\", \"Luis\", \"Marta\"],\n",
    "    [\"Juan\"],\n",
    "    [\"Elena\", \"Jorge\"]\n",
    "]\n",
    "\n",
    "for grupo in grupos:\n",
    "    for integrante in grupo:\n",
    "        print(integrante, end=\", \")\n",
    "    print()"
   ]
  },
  {
   "cell_type": "code",
   "execution_count": null,
   "metadata": {},
   "outputs": [],
   "source": [
    "grupos = [\n",
    "    [\"Ana\", \"Luis\", \"Marta\"],\n",
    "    [\"Juan\"],\n",
    "    [\"Elena\", \"Jorge\"]\n",
    "]\n",
    "\n",
    "for f in range(len(grupos)):\n",
    "    for c in range(len(grupos[f])):\n",
    "        if c < len(grupos[f]) -1: # Compruebo si es el último de la fila\n",
    "            print(grupos[f][c], end=\", \")\n",
    "        else:\n",
    "            print(grupos[f][c])"
   ]
  },
  {
   "cell_type": "code",
   "execution_count": null,
   "metadata": {},
   "outputs": [],
   "source": [
    "grupos = [\n",
    "    [\"Ana\", \"Luis\", \"Marta\"],\n",
    "    [\"Juan\"],\n",
    "    [\"Elena\", \"Jorge\"]\n",
    "]\n",
    "\n",
    "for f in range(len(grupos)):\n",
    "    for c in range(len(grupos[f])):\n",
    "        print(grupos[f][c], end=\"\")\n",
    "        if c < len(grupos[f]) -1: # Compruebo si es el último de la fila\n",
    "            print(\", \", end=\"\")\n",
    "        else:\n",
    "            print()"
   ]
  },
  {
   "cell_type": "markdown",
   "metadata": {},
   "source": [
    "## Ejercicio 13\n",
    "\n",
    "Utiliza una lista bidimensional para almacenar las temperaturas máximas de cada día de cada mes. Cada mes será una fila y las temperaturas estarán en columnas.\n",
    "\n",
    "Muestra las medias de cada mes."
   ]
  },
  {
   "cell_type": "code",
   "execution_count": null,
   "metadata": {},
   "outputs": [
    {
     "name": "stdout",
     "output_type": "stream",
     "text": [
      "[[5.4, 33.9, 30.6, 10.2, 19.8, 18.0, 26.1, 31.5, 3.8, 1.1, 33.4, 17.3, 30.5, 0.1, 17.8, 28.9, 9.2, 37.8, 36.1, 1.2, 1.0, 21.7, 37.6, 15.2, 8.7, 16.9, 1.2, 8.9, 17.5, 19.8, 9.3], [9.2, 8.8, 18.4, 11.6, 0.9, 33.5, 22.3, 25.7, 7.4, 39.7, 34.4, 4.8, 13.3, 28.9, 28.4, 37.5, 16.9, 33.2, 26.8, 12.1, 23.5, 35.3, 33.8, 20.2, 23.6, 1.4, 9.7, 31.9], [16.6, 6.9, 22.0, 28.1, 27.0, 15.0, 17.6, 20.3, 31.1, 20.8, 15.7, 19.6, 1.2, 1.7, 28.1, 39.3, 23.7, 15.7, 6.8, 20.1, 39.3, 30.8, 21.6, 34.4, 9.3, 20.6, 38.1, 23.1, 18.4, 10.8, 21.9], [38.3, 0.2, 31.3, 32.8, 35.4, 29.6, 32.4, 20.7, 22.5, 17.0, 2.2, 34.8, 22.8, 8.0, 20.2, 19.4, 14.3, 13.8, 21.5, 24.9, 24.5, 18.3, 1.1, 9.2, 7.1, 23.4, 34.4, 31.9, 31.9, 32.7], [10.2, 33.7, 26.9, 3.3, 0.7, 0.6, 30.2, 10.0, 4.4, 25.0, 13.8, 2.8, 6.4, 21.1, 6.7, 10.9, 28.5, 18.2, 12.9, 19.0, 0.9, 15.5, 16.8, 7.5, 4.4, 36.0, 20.4, 8.4, 24.2, 32.7, 0.8], [0.7, 5.9, 28.8, 6.4, 28.2, 27.1, 21.8, 8.8, 39.0, 31.9, 20.7, 8.9, 25.9, 15.8, 23.0, 12.8, 25.2, 2.4, 11.9, 38.7, 35.0, 12.3, 34.3, 12.4, 37.6, 29.8, 16.6, 10.1, 0.3, 35.1], [1.5, 32.8, 38.5, 22.8, 6.9, 34.7, 39.0, 28.2, 20.4, 15.1, 13.9, 8.2, 27.0, 17.3, 7.8, 4.2, 26.6, 11.8, 20.0, 13.0, 34.9, 36.0, 0.7, 8.0, 13.1, 39.5, 31.3, 13.6, 8.5, 27.0, 33.5], [37.3, 13.8, 35.3, 27.5, 19.4, 39.4, 9.4, 29.0, 3.4, 6.8, 36.4, 8.5, 30.4, 24.0, 33.6, 14.7, 13.6, 11.6, 34.7, 24.2, 38.2, 35.5, 5.4, 22.0, 4.2, 1.6, 2.9, 34.6, 31.5, 33.1, 13.6], [24.6, 31.3, 15.1, 22.8, 8.9, 3.3, 10.7, 35.6, 22.6, 37.0, 18.3, 11.1, 31.5, 33.1, 0.5, 26.8, 3.7, 4.6, 35.4, 1.6, 9.6, 39.5, 16.8, 4.6, 6.7, 9.7, 29.8, 4.1, 36.4, 15.1], [38.8, 36.4, 11.8, 10.1, 19.1, 4.0, 26.1, 1.6, 0.4, 39.3, 11.8, 23.9, 18.0, 12.5, 2.5, 36.5, 38.8, 38.8, 4.5, 8.6, 24.7, 39.2, 21.7, 27.5, 26.5, 10.4, 21.7, 12.3, 9.9, 3.3, 11.2], [39.3, 17.9, 26.1, 25.7, 37.6, 15.6, 12.3, 13.1, 12.7, 33.9, 35.7, 12.1, 13.4, 21.8, 23.2, 23.8, 9.8, 0.8, 9.8, 2.9, 22.0, 2.8, 3.0, 25.4, 11.6, 31.7, 19.7, 34.5, 6.2, 20.1]]\n",
      "La media de enero es 17.76\n",
      "La media de febrero es 21.19\n",
      "La media de marzo es 20.83\n",
      "La media de abril es 21.89\n",
      "La media de mayo es 14.61\n",
      "La media de junio es 20.25\n",
      "La media de julio es 20.51\n",
      "La media de agosto es 21.79\n",
      "La media de septiembre es 18.36\n",
      "La media de octubre es 19.09\n",
      "La media de noviembre es 18.82\n"
     ]
    }
   ],
   "source": [
    "import random\n",
    "\n",
    "dias_meses = [31, 28, 31, 30, 31, 30, 31, 31, 30, 31, 30, 31]\n",
    "meses = [\"enero\", \"febrero\", \"marzo\", \"abril\", \"mayo\", \"junio\", \"julio\", \"agosto\", \"septiembre\", \"octubre\", \"noviembre\", \"diciembre\"]\n",
    "\n",
    "temperaturas_maximas = []\n",
    "\n",
    "random.seed(1) # Para que siempre genere los mismos números aleatorios\n",
    "\n",
    "for dias_mes in dias_meses:\n",
    "    temperaturas_mes = []\n",
    "    for i in range(dias_mes):\n",
    "        temperatura = random.uniform(0, 40)\n",
    "        temperaturas_mes.append(round(temperatura, 1))\n",
    "    temperaturas_maximas.append(temperaturas_mes)\n",
    "\n",
    "print(temperaturas_maximas)\n",
    "\n",
    "for f in range(len(temperaturas_maximas)):\n",
    "    media = 0\n",
    "    for c in range(len(temperaturas_maximas[f])):\n",
    "        media += temperaturas_maximas[f][c]\n",
    "    media /= len(temperaturas_maximas[f])\n",
    "    print(f\"La media de {meses[f]} es {round(media, 2)}\")\n"
   ]
  },
  {
   "cell_type": "markdown",
   "metadata": {},
   "source": [
    "# Comprensión de listas (AVANZADO)\n"
   ]
  },
  {
   "cell_type": "markdown",
   "metadata": {},
   "source": [
    "\n",
    "## Ejercicio 14\n",
    "\n",
    "Crea una lista con las 10 primeras potencias de 3."
   ]
  },
  {
   "cell_type": "code",
   "execution_count": null,
   "metadata": {},
   "outputs": [
    {
     "name": "stdout",
     "output_type": "stream",
     "text": [
      "[1, 3, 9, 27, 81, 243, 729, 2187, 6561, 19683]\n"
     ]
    }
   ],
   "source": [
    "lista = [3 ** i for i in range(10)]\n",
    "\n",
    "print(lista)"
   ]
  },
  {
   "cell_type": "markdown",
   "metadata": {},
   "source": [
    "## Ejercicio 15\n",
    "\n",
    "Crea una lista con los 100 primeros múltiplos de 7."
   ]
  },
  {
   "cell_type": "code",
   "execution_count": null,
   "metadata": {},
   "outputs": [
    {
     "name": "stdout",
     "output_type": "stream",
     "text": [
      "[7, 14, 21, 28, 35, 42, 49, 56, 63, 70, 77, 84, 91, 98, 105, 112, 119, 126, 133, 140, 147, 154, 161, 168, 175, 182, 189, 196, 203, 210, 217, 224, 231, 238, 245, 252, 259, 266, 273, 280, 287, 294, 301, 308, 315, 322, 329, 336, 343, 350, 357, 364, 371, 378, 385, 392, 399, 406, 413, 420, 427, 434, 441, 448, 455, 462, 469, 476, 483, 490, 497, 504, 511, 518, 525, 532, 539, 546, 553, 560, 567, 574, 581, 588, 595, 602, 609, 616, 623, 630, 637, 644, 651, 658, 665, 672, 679, 686, 693, 700]\n"
     ]
    }
   ],
   "source": [
    "lista = [7 * i for i in range(1, 101)]\n",
    "\n",
    "print(lista)"
   ]
  },
  {
   "cell_type": "markdown",
   "metadata": {},
   "source": [
    "## Ejercicio 16\n",
    "\n",
    "Utilizando comprensión de listas, vuelve a resolver el ejercicio 3."
   ]
  },
  {
   "cell_type": "code",
   "execution_count": null,
   "metadata": {},
   "outputs": [
    {
     "name": "stdout",
     "output_type": "stream",
     "text": [
      "[4, 6]\n"
     ]
    }
   ],
   "source": [
    "lista = [5, 4, 3, 1, 6, 9, 9]\n",
    "resultado = [valor for valor in lista if valor % 2 == 0]\n",
    "\n",
    "print(resultado)"
   ]
  },
  {
   "cell_type": "markdown",
   "metadata": {},
   "source": [
    "## Ejercicio 17\n",
    "\n",
    "Utilizando comprensión de listas, vuelve a resolver el ejercicio 4."
   ]
  },
  {
   "cell_type": "code",
   "execution_count": null,
   "metadata": {},
   "outputs": [
    {
     "name": "stdout",
     "output_type": "stream",
     "text": [
      "[10, 8, 6, 2, 12, 18, 18]\n"
     ]
    }
   ],
   "source": [
    "lista = [5, 4, 3, 1, 6, 9, 9]\n",
    "\n",
    "dobles = [2 * x for x in lista]\n",
    "\n",
    "print(dobles)"
   ]
  },
  {
   "cell_type": "markdown",
   "metadata": {},
   "source": [
    "## Ejercicio 18\n",
    "\n",
    "Utilizando comprensión de listas, vuelve a resolver el ejercicio 6."
   ]
  },
  {
   "cell_type": "code",
   "execution_count": 9,
   "metadata": {},
   "outputs": [
    {
     "name": "stdout",
     "output_type": "stream",
     "text": [
      "['manzana', 'platano', 'sandia']\n"
     ]
    }
   ],
   "source": [
    "palabras = [\"manzana\", \"pera\", \"platano\", \"uva\", \"sandia\", \"melon\", \"fresa\", \"kiwi\"]\n",
    "\n",
    "palabras_largas = [palabra for palabra in palabras if len(palabra) > 5]\n",
    "\n",
    "print(palabras_largas)"
   ]
  },
  {
   "cell_type": "markdown",
   "metadata": {},
   "source": [
    "## Ejercicio 19\n",
    "\n",
    "Crea una lista con los números que sean múltiplos de 3 o de 5 hasta el 100."
   ]
  },
  {
   "cell_type": "code",
   "execution_count": 10,
   "metadata": {},
   "outputs": [
    {
     "name": "stdout",
     "output_type": "stream",
     "text": [
      "[3, 5, 6, 9, 10, 12, 15, 18, 20, 21, 24, 25, 27, 30, 33, 35, 36, 39, 40, 42, 45, 48, 50, 51, 54, 55, 57, 60, 63, 65, 66, 69, 70, 72, 75, 78, 80, 81, 84, 85, 87, 90, 93, 95, 96, 99, 100]\n"
     ]
    }
   ],
   "source": [
    "multiplos = [x for x in range (1, 101) if x % 5 == 0 or x % 3 == 0]\n",
    "print(multiplos)"
   ]
  },
  {
   "cell_type": "markdown",
   "metadata": {},
   "source": [
    "## Ejercicio 20\n",
    "\n",
    "Crea una lista con los divisores de un número que se pasa por teclado."
   ]
  },
  {
   "cell_type": "code",
   "execution_count": 12,
   "metadata": {},
   "outputs": [
    {
     "name": "stdout",
     "output_type": "stream",
     "text": [
      "[2, 4, 5, 10]\n"
     ]
    }
   ],
   "source": [
    "num = int(input(\"Dime un número del que quieras saber sus divisores: \"))\n",
    "\n",
    "divisores = [x for x in range(2,num) if num % x == 0]\n",
    "\n",
    "print(divisores)"
   ]
  },
  {
   "cell_type": "markdown",
   "metadata": {},
   "source": [
    "## Ejercicio 21\n",
    "\n",
    "Crea una lista con los años que son bisiestos a partir de una lista de años.\n",
    "\n",
    "Por ejemplo, a partir de [1995, 2004, 2003, 1900, 2008] debe devolver [2004, 2008].\n",
    "\n",
    "Debes utilizar la función `es_bisiesto(anho)` creada en el tema anterior y comprensión de listas."
   ]
  },
  {
   "cell_type": "code",
   "execution_count": 13,
   "metadata": {},
   "outputs": [
    {
     "name": "stdout",
     "output_type": "stream",
     "text": [
      "[1904, 1908, 1912, 1916, 1920, 1924, 1928, 1932, 1936, 1940, 1944, 1948, 1952, 1956, 1960, 1964, 1968, 1972, 1976, 1980, 1984, 1988, 1992, 1996, 2000]\n"
     ]
    }
   ],
   "source": [
    "def es_bisiesto(anho):\n",
    "    if anho % 400 == 0:\n",
    "        return True\n",
    "    elif anho % 4 == 0 and anho % 100 != 0:\n",
    "        return True\n",
    "    else:\n",
    "        return False\n",
    "\n",
    "inicio = 1900\n",
    "fin = 2000\n",
    "\n",
    "bisiestos = [anho for anho in range(inicio, fin + 1) if es_bisiesto(anho)]\n",
    "\n",
    "print(bisiestos)"
   ]
  },
  {
   "cell_type": "markdown",
   "metadata": {},
   "source": [
    "# Ejercicios sencillos listas bidimensionales\n",
    "\n",
    "## Ejercicio 22\n",
    "\n",
    "Crea una lista bidimensional de 6 filas y 7 columnas con valores aleatorios entre 0 y 9.\n",
    "\n",
    "Muéstrala por pantalla.\n",
    "\n",
    "Recórrela y almacena en una variable cuántos números pares hay en ella y almacena en otra cuántos impares.\n",
    "\n",
    "Muestra los resultados por pantalla.\n",
    "\n",
    "Vuelve a recorrerla para crear una lista unidimensional nueva con los números pares que aparecen en ella y otra con los impares."
   ]
  },
  {
   "cell_type": "markdown",
   "metadata": {},
   "source": [
    "## Ejercicio 23\n",
    "\n",
    "Crea una lista bidimensional 3x3 que sirva para jugar al tres en raya, almacenará 3 posibles cadenas, una cadena vacía para indicar que no se ha puesto una ficha en esa posición, una 'o' para indicar que ha jugado el jugador 1 y una 'x' para el jugador 2.\n",
    "\n",
    "Crea una función que la recorra y que busque si se ha producido 3 en raya para el jugador 1 en alguna de las filas.\n",
    "\n",
    "Crea una función que la recorra y que busque si se ha producido 3 en raya para el jugador 1 en alguna de las columnas.\n",
    "\n",
    "**AVANZADO**: Crea una función que la recorra y que busque si se ha producido 3 en raya para el jugador 1 en alguna de las diagonales.\n",
    "\n",
    "**AVANZADO**: Crea una función que la recorra y que busque si se ha producido 3 en raya para algún jugador.\n",
    "\n",
    "**AVANZADO**: Completa el ejercicio para que dos jugadores puedan jugar al 3 en raya.\n"
   ]
  }
 ],
 "metadata": {
  "kernelspec": {
   "display_name": "Python 3",
   "language": "python",
   "name": "python3"
  },
  "language_info": {
   "codemirror_mode": {
    "name": "ipython",
    "version": 3
   },
   "file_extension": ".py",
   "mimetype": "text/x-python",
   "name": "python",
   "nbconvert_exporter": "python",
   "pygments_lexer": "ipython3",
   "version": "3.11.5"
  }
 },
 "nbformat": 4,
 "nbformat_minor": 2
}
