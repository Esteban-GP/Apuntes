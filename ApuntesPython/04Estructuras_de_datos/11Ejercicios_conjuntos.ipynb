{
 "cells": [
  {
   "cell_type": "markdown",
   "metadata": {},
   "source": [
    "# Ejercicios"
   ]
  },
  {
   "cell_type": "markdown",
   "metadata": {},
   "source": [
    "## Ejercicio 1\n",
    "\n",
    "A partir de dos cadenas, devuelve un conjunto con las letras que estén en ambas."
   ]
  },
  {
   "cell_type": "code",
   "execution_count": 1,
   "metadata": {},
   "outputs": [
    {
     "name": "stdout",
     "output_type": "stream",
     "text": [
      "{'r', 'C', 'H', 'c', 'o', 'a', 'l'}\n"
     ]
    }
   ],
   "source": [
    "cadena1 = \"Hola\"\n",
    "cadena2 = \"Caracola\"\n",
    "\n",
    "conjunto = set(cadena1).union(set(cadena2))\n",
    "\n",
    "print(conjunto)"
   ]
  },
  {
   "cell_type": "markdown",
   "metadata": {},
   "source": [
    "## Ejercicio 2\n",
    "\n",
    "Con la intención de organizar mejor la FCT, crea varios conjuntos, uno por cada lenguaje de programación que conozcas, y añade a cada uno los alumnos que sepan ese lenguaje.\n",
    "\n",
    "Acaba de llegar una oferta de empleo que requiere que los candidatos sepan Java, C# y Python. ¿Qué alumnxs podrían optar a ella?"
   ]
  },
  {
   "cell_type": "code",
   "execution_count": 1,
   "metadata": {},
   "outputs": [
    {
     "name": "stdout",
     "output_type": "stream",
     "text": [
      "{'María'}\n"
     ]
    }
   ],
   "source": [
    "java = {\"Pedro\", \"Juan\", \"María\", \"Antonio\"}\n",
    "python = {\"Luis\", \"Pedro\", \"María\", \"Jorge\"}\n",
    "c_sharp = {\"María\", \"Antonio\", \"Javier\", \"Ana\"}\n",
    "\n",
    "resultado = java.intersection(python, c_sharp)\n",
    "print(resultado)"
   ]
  }
 ],
 "metadata": {
  "kernelspec": {
   "display_name": "Python 3",
   "language": "python",
   "name": "python3"
  },
  "language_info": {
   "codemirror_mode": {
    "name": "ipython",
    "version": 3
   },
   "file_extension": ".py",
   "mimetype": "text/x-python",
   "name": "python",
   "nbconvert_exporter": "python",
   "pygments_lexer": "ipython3",
   "version": "3.11.0"
  }
 },
 "nbformat": 4,
 "nbformat_minor": 2
}
