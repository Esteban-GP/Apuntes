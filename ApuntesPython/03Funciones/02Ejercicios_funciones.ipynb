{
 "cells": [
  {
   "cell_type": "markdown",
   "metadata": {},
   "source": [
    "# Ejercicio 1\n",
    "\n",
    "Crea una función en Python que calcule e imprima el volumen y el área del cono.\n",
    "\n",
    "Modifícala para que sean dos funciones, una que devuelva el volumen y otra el área del cono.\n",
    "\n",
    "**AVANZADO** Modifícala para que sea una función que devuelve dos valores."
   ]
  },
  {
   "cell_type": "code",
   "execution_count": 8,
   "metadata": {},
   "outputs": [
    {
     "name": "stdout",
     "output_type": "stream",
     "text": [
      "El volumen es 205.25\n",
      "El área es 331.24\n"
     ]
    }
   ],
   "source": [
    "import math\n",
    "\n",
    "def imprime_volumen(h, r):\n",
    "    area_base = math.pi * (r ** 2)\n",
    "    volumen = area_base * h / 3\n",
    "    print(f\"El volumen es {round(volumen, 2)}\")\n",
    "\n",
    "def imprime_area(h, r):\n",
    "    generatriz = math.hypot(r, h)\n",
    "    area_base = math.pi * (r ** 2)\n",
    "    area_lateral = math.pi * r * generatriz\n",
    "    area = area_base + area_lateral\n",
    "    print(f\"El área es {round(area, 2)}\")\n",
    "\n",
    "imprime_volumen(4, 7)\n",
    "imprime_area(4, 7)"
   ]
  },
  {
   "cell_type": "code",
   "execution_count": 9,
   "metadata": {},
   "outputs": [
    {
     "name": "stdout",
     "output_type": "stream",
     "text": [
      "El área es 331.24 y el volumen es 205.25\n"
     ]
    }
   ],
   "source": [
    "import math\n",
    "\n",
    "def volumen_area_cono(h, r):\n",
    "    area_base = math.pi * (r ** 2)\n",
    "    volumen = area_base * h / 3\n",
    "    generatriz = math.hypot(r, h)\n",
    "    area_lateral = math.pi * r * generatriz\n",
    "    area = area_base + area_lateral\n",
    "    return volumen, area\n",
    "\n",
    "v, a = volumen_area_cono(4, 7)\n",
    "\n",
    "print(f\"El área es {round(a, 2)} y el volumen es {round(v, 2)}\")"
   ]
  },
  {
   "cell_type": "markdown",
   "metadata": {},
   "source": [
    "# Ejercicio 2\n",
    "\n",
    "Crea una función en Python que indique si un año es o no bisiesto. Devolverá `True` cuando\n",
    "lo es y `False` en caso contrario. Crea un programa principal que solicite el año al usuario y\n",
    "haga uso de la función."
   ]
  },
  {
   "cell_type": "code",
   "execution_count": 13,
   "metadata": {},
   "outputs": [
    {
     "name": "stdout",
     "output_type": "stream",
     "text": [
      "No es bisiesto\n"
     ]
    }
   ],
   "source": [
    "def es_bisiesto(anho):\n",
    "    if anho % 400 == 0:\n",
    "        return True\n",
    "    elif anho % 4 == 0 and anho % 100 != 0:\n",
    "        return True\n",
    "    else:\n",
    "        return False\n",
    "\n",
    "anho = int(input(\"Escribe un año: \"))\n",
    "if es_bisiesto(anho):\n",
    "    print(\"Es bisiesto\")\n",
    "else:\n",
    "    print(\"No es bisiesto\")"
   ]
  },
  {
   "cell_type": "markdown",
   "metadata": {},
   "source": [
    "# Ejercicio 3\n",
    "\n",
    "Utiliza la función anterior para crear un script que pida al usuario mediante un formulario un\n",
    "año mínimo y uno máximo y devuelva los años bisiestos que se encuentren entre ambos.\n",
    "\n",
    "**AVANZADO**: Crea con esto otra función, que haga uso de la del Ejercicio 2, a la que se le pasen los años de inicio y fin. En el caso de que no se le pase ningún año de fin tomará 2023 como valor por defecto.\n"
   ]
  },
  {
   "cell_type": "code",
   "execution_count": 1,
   "metadata": {},
   "outputs": [
    {
     "name": "stdout",
     "output_type": "stream",
     "text": [
      "Estos son los años bisiestos en ese rango\n",
      "1892\n",
      "1896\n",
      "1904\n",
      "1908\n"
     ]
    }
   ],
   "source": [
    "def es_bisiesto(anho):\n",
    "    if anho % 400 == 0:\n",
    "        return True\n",
    "    elif anho % 4 == 0 and anho % 100 != 0:\n",
    "        return True\n",
    "    else:\n",
    "        return False\n",
    "    \n",
    "anho_inicio = int(input(\"Escribe el año de inicio:\"))\n",
    "anho_fin = int(input(\"Escribe el año de fin:\"))\n",
    "\n",
    "print(\"Estos son los años bisiestos en ese rango\")\n",
    "\n",
    "for anho in range(anho_inicio, anho_fin + 1):\n",
    "    if es_bisiesto(anho):\n",
    "        print(anho)"
   ]
  },
  {
   "cell_type": "markdown",
   "metadata": {},
   "source": [
    "# Ejercicio 4\n",
    "\n",
    "Crea una función en Python que determine si un número es, o no, primo. La función\n",
    "devolverá `True` cuando el número sea primo y `False`, en caso contrario.\n"
   ]
  },
  {
   "cell_type": "code",
   "execution_count": 4,
   "metadata": {},
   "outputs": [
    {
     "name": "stdout",
     "output_type": "stream",
     "text": [
      "False\n"
     ]
    }
   ],
   "source": [
    "def es_primo(numero):\n",
    "    for i in range (2, numero):\n",
    "        if numero % i == 0: # Hemos encontrado un divisor\n",
    "            return False\n",
    "    return True\n",
    "\n",
    "numero = int(input(\"Dame un número para saber si es primo: \"))\n",
    "if es_primo(numero):\n",
    "    print(\"Es primo\")\n",
    "else:\n",
    "    print(\"No es primo\")"
   ]
  },
  {
   "cell_type": "markdown",
   "metadata": {},
   "source": [
    "# Ejercicio 5\n",
    "\n",
    "Utiliza la función anterior para crear un script que pida al usuario mediante un formulario un\n",
    "número y devuelva los números primos menores que ese número."
   ]
  },
  {
   "cell_type": "code",
   "execution_count": 5,
   "metadata": {},
   "outputs": [
    {
     "name": "stdout",
     "output_type": "stream",
     "text": [
      "Hay 5 primos menores que 10\n"
     ]
    }
   ],
   "source": [
    "def es_primo(numero):\n",
    "    for i in range (2, numero):\n",
    "        if numero % i == 0: # Hemos encontrado un divisor\n",
    "            return False\n",
    "    return True\n",
    "\n",
    "limite = int(input(\"Introduce el límite superior para buscar números primos:\"))\n",
    "contador = 0\n",
    "\n",
    "for i in range (1, limite):\n",
    "    if es_primo(i):\n",
    "        contador += 1\n",
    "    \n",
    "print(f\"Hay {contador} primos menores que {limite}\")\n",
    "\n"
   ]
  },
  {
   "cell_type": "markdown",
   "metadata": {},
   "source": [
    "# Ejercicio 6\n",
    "\n",
    "Crea una función en Python que reciba un número y genere una pirámide como la siguiente\n",
    "(esta sería la generada cuando se recibe el número 5):\n",
    "```python\n",
    "    1\n",
    "   212\n",
    "  32123\n",
    " 4321234\n",
    "543212345\n",
    "```\n",
    "Paso 1\n",
    "```python\n",
    "1\n",
    "21\n",
    "321\n",
    "4321\n",
    "54321\n",
    "```\n",
    "Paso 2\n",
    "```python\n",
    "    1\n",
    "   21\n",
    "  321\n",
    " 4321\n",
    "54321\n",
    "```\n",
    "Paso 3\n",
    "```python\n",
    "    1\n",
    "   212\n",
    "  32123\n",
    " 4321234\n",
    "543212345\n",
    "```"
   ]
  },
  {
   "cell_type": "code",
   "execution_count": 9,
   "metadata": {},
   "outputs": [
    {
     "name": "stdout",
     "output_type": "stream",
     "text": [
      "        1\n",
      "       212\n",
      "      32123\n",
      "     4321234\n",
      "    543212345\n",
      "   65432123456\n",
      "  7654321234567\n",
      " 876543212345678\n",
      "98765432123456789\n"
     ]
    }
   ],
   "source": [
    "def piramide(tamanho):\n",
    "    for fila in range(1, tamanho + 1): # Iterar las filas\n",
    "        # Paso 2\n",
    "        num_espacios = tamanho - fila\n",
    "        print(\" \" * num_espacios, end=\"\")\n",
    "        # Paso 1\n",
    "        for j in range(fila, 0, -1): # Genera los elementos de cada fila\n",
    "            print(j, end=\"\")\n",
    "        # Paso 3\n",
    "        for j in range(2, fila + 1):\n",
    "            print(j, end=\"\")\n",
    "        print() # Al terminar la fila completa pongo un retorno de carro\n",
    "\n",
    "\n",
    "piramide(9)"
   ]
  }
 ],
 "metadata": {
  "kernelspec": {
   "display_name": "Python 3",
   "language": "python",
   "name": "python3"
  },
  "language_info": {
   "codemirror_mode": {
    "name": "ipython",
    "version": 3
   },
   "file_extension": ".py",
   "mimetype": "text/x-python",
   "name": "python",
   "nbconvert_exporter": "python",
   "pygments_lexer": "ipython3",
   "version": "3.11.5"
  },
  "orig_nbformat": 4
 },
 "nbformat": 4,
 "nbformat_minor": 2
}
