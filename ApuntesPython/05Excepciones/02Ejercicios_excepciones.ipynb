{
 "cells": [
  {
   "cell_type": "markdown",
   "metadata": {},
   "source": [
    "# Ejercicios\n",
    "\n",
    "## Ejercicio 1\n",
    "\n",
    "Crea un programa en Python que tenga definido una lista de 7 posiciones que representan la temperatura máxima de cada día de la semana en una ciudad.\n",
    "\n",
    "Solicita al usuario que introduzca dos posiciones, y calculará la temperatura media entre esos días. Si los valores introducidos no son válidos, por estar fuera de los límites de la lista se capturará la excepción y la media será cero."
   ]
  },
  {
   "cell_type": "code",
   "execution_count": 3,
   "metadata": {},
   "outputs": [
    {
     "name": "stdout",
     "output_type": "stream",
     "text": [
      "Días introducidos incorrectos\n"
     ]
    }
   ],
   "source": [
    "temperaturas = [15, 17, 21, 23, 14, 12, 11]\n",
    "\n",
    "d1 = int(input(\"Introduce un día de la semana (Lunes:0, Viernes: 6)\"))\n",
    "d2 = int(input(\"Introduce otro día de la semana (Lunes:0, Viernes: 6)\"))\n",
    "\n",
    "try :\n",
    "    media = (temperaturas[d1] + temperaturas[d2]) / 2\n",
    "    print(\"La media es\", media)\n",
    "except IndexError:\n",
    "    print(\"Días introducidos incorrectos\")\n"
   ]
  },
  {
   "cell_type": "markdown",
   "metadata": {},
   "source": [
    "## Ejercicio 2\n",
    "Usando control de excepciones, crea un programa que solicite al usuario un número y muestre por pantalla el valor de la raíz cuadrada de ese número. Si el número es negativo se mostrará un mensaje indicando que no es posible calcular la raíz cuadrada de un número negativo."
   ]
  },
  {
   "cell_type": "code",
   "execution_count": 6,
   "metadata": {},
   "outputs": [
    {
     "name": "stdout",
     "output_type": "stream",
     "text": [
      "2.1213203435596424\n"
     ]
    }
   ],
   "source": [
    "import math\n",
    "\n",
    "try:\n",
    "    numero = float(input(\"Introduce un número\"))\n",
    "    raiz = math.sqrt(numero)\n",
    "    print(raiz)\n",
    "except ValueError:\n",
    "    print(\"No puedo operar con esa entrada\")"
   ]
  },
  {
   "cell_type": "markdown",
   "metadata": {},
   "source": [
    "## Ejercicio 3\n",
    "Modifica el programa anterior para que el programa siga pidiendo un valor hasta que el usuario introduzca un número positivo."
   ]
  },
  {
   "cell_type": "code",
   "execution_count": null,
   "metadata": {},
   "outputs": [],
   "source": [
    "import math\n",
    "\n",
    "valor_correcto = False\n",
    "\n",
    "while not valor_correcto:\n",
    "    try:\n",
    "        numero = int(input(\"Introduce un número\"))\n",
    "        raiz = math.sqrt(numero)\n",
    "        valor_correcto = True\n",
    "        print(raiz)\n",
    "    except ValueError:\n",
    "        print(\"El resultado no es real\")"
   ]
  },
  {
   "cell_type": "markdown",
   "metadata": {},
   "source": [
    "## Ejercicio 4\n",
    "\n",
    "Investiga el funcionamiento del método `index()` de las listas. ¿Qué ocurre si el elemento no se encuentra en la lista?\n",
    "\n",
    "Crea una lista con los nombres de los meses del año. Solicita al usuario que introduzca un nombre de mes. Si el nombre se encuentra en la lista, se mostrará el número de mes. Si el nombre no se encuentra en la lista, se mostrará un mensaje indicando que no existe ese mes, y se volverá a solicitar al usuario que introduzca un nombre de mes, hasta que introduzca el nombre de un mes válido."
   ]
  },
  {
   "cell_type": "code",
   "execution_count": null,
   "metadata": {},
   "outputs": [],
   "source": []
  },
  {
   "cell_type": "code",
   "execution_count": 9,
   "metadata": {},
   "outputs": [
    {
     "name": "stdout",
     "output_type": "stream",
     "text": [
      "Ese mes no es válido. Por favor, revisa tu ortografía e introduce un mes de nuevo.\n",
      "Ese mes no es válido. Por favor, revisa tu ortografía e introduce un mes de nuevo.\n",
      "Ese mes no es válido. Por favor, revisa tu ortografía e introduce un mes de nuevo.\n",
      "Ese mes no es válido. Por favor, revisa tu ortografía e introduce un mes de nuevo.\n",
      "Ese mes no es válido. Por favor, revisa tu ortografía e introduce un mes de nuevo.\n",
      "Ese mes no es válido. Por favor, revisa tu ortografía e introduce un mes de nuevo.\n",
      "Ese mes no es válido. Por favor, revisa tu ortografía e introduce un mes de nuevo.\n",
      "Diciembre es el mes número 12\n",
      "Diciembre es el mes número 12\n",
      "Enero es el mes número 1\n",
      "Ese mes no es válido. Por favor, revisa tu ortografía e introduce un mes de nuevo.\n",
      "Ese mes no es válido. Por favor, revisa tu ortografía e introduce un mes de nuevo.\n",
      "Ese mes no es válido. Por favor, revisa tu ortografía e introduce un mes de nuevo.\n",
      "Ese mes no es válido. Por favor, revisa tu ortografía e introduce un mes de nuevo.\n",
      "Ese mes no es válido. Por favor, revisa tu ortografía e introduce un mes de nuevo.\n",
      "Ese mes no es válido. Por favor, revisa tu ortografía e introduce un mes de nuevo.\n"
     ]
    },
    {
     "ename": "KeyboardInterrupt",
     "evalue": "Interrupted by user",
     "output_type": "error",
     "traceback": [
      "\u001b[1;31m---------------------------------------------------------------------------\u001b[0m",
      "\u001b[1;31mKeyboardInterrupt\u001b[0m                         Traceback (most recent call last)",
      "\u001b[1;32mz:\\Programacion\\apuntes\\05Excepciones\\02Ejercicios_excepciones.ipynb Celda 9\u001b[0m line \u001b[0;36m6\n\u001b[0;32m      <a href='vscode-notebook-cell:/z%3A/Programacion/apuntes/05Excepciones/02Ejercicios_excepciones.ipynb#X12sZmlsZQ%3D%3D?line=3'>4</a>\u001b[0m valor_correcto \u001b[39m=\u001b[39m \u001b[39mFalse\u001b[39;00m\n\u001b[0;32m      <a href='vscode-notebook-cell:/z%3A/Programacion/apuntes/05Excepciones/02Ejercicios_excepciones.ipynb#X12sZmlsZQ%3D%3D?line=4'>5</a>\u001b[0m \u001b[39mwhile\u001b[39;00m \u001b[39mnot\u001b[39;00m valor_correcto:\n\u001b[1;32m----> <a href='vscode-notebook-cell:/z%3A/Programacion/apuntes/05Excepciones/02Ejercicios_excepciones.ipynb#X12sZmlsZQ%3D%3D?line=5'>6</a>\u001b[0m     user \u001b[39m=\u001b[39m \u001b[39minput\u001b[39;49m(\u001b[39m\"\u001b[39;49m\u001b[39mDame un mes por favor: \u001b[39;49m\u001b[39m\"\u001b[39;49m)\u001b[39m.\u001b[39mcapitalize()\n\u001b[0;32m      <a href='vscode-notebook-cell:/z%3A/Programacion/apuntes/05Excepciones/02Ejercicios_excepciones.ipynb#X12sZmlsZQ%3D%3D?line=7'>8</a>\u001b[0m     \u001b[39mtry\u001b[39;00m:\n\u001b[0;32m      <a href='vscode-notebook-cell:/z%3A/Programacion/apuntes/05Excepciones/02Ejercicios_excepciones.ipynb#X12sZmlsZQ%3D%3D?line=8'>9</a>\u001b[0m         number \u001b[39m=\u001b[39m months\u001b[39m.\u001b[39mindex(user) \u001b[39m+\u001b[39m \u001b[39m1\u001b[39m\n",
      "File \u001b[1;32m~\\AppData\\Roaming\\Python\\Python311\\site-packages\\ipykernel\\kernelbase.py:1202\u001b[0m, in \u001b[0;36mKernel.raw_input\u001b[1;34m(self, prompt)\u001b[0m\n\u001b[0;32m   1200\u001b[0m     msg \u001b[39m=\u001b[39m \u001b[39m\"\u001b[39m\u001b[39mraw_input was called, but this frontend does not support input requests.\u001b[39m\u001b[39m\"\u001b[39m\n\u001b[0;32m   1201\u001b[0m     \u001b[39mraise\u001b[39;00m StdinNotImplementedError(msg)\n\u001b[1;32m-> 1202\u001b[0m \u001b[39mreturn\u001b[39;00m \u001b[39mself\u001b[39;49m\u001b[39m.\u001b[39;49m_input_request(\n\u001b[0;32m   1203\u001b[0m     \u001b[39mstr\u001b[39;49m(prompt),\n\u001b[0;32m   1204\u001b[0m     \u001b[39mself\u001b[39;49m\u001b[39m.\u001b[39;49m_parent_ident[\u001b[39m\"\u001b[39;49m\u001b[39mshell\u001b[39;49m\u001b[39m\"\u001b[39;49m],\n\u001b[0;32m   1205\u001b[0m     \u001b[39mself\u001b[39;49m\u001b[39m.\u001b[39;49mget_parent(\u001b[39m\"\u001b[39;49m\u001b[39mshell\u001b[39;49m\u001b[39m\"\u001b[39;49m),\n\u001b[0;32m   1206\u001b[0m     password\u001b[39m=\u001b[39;49m\u001b[39mFalse\u001b[39;49;00m,\n\u001b[0;32m   1207\u001b[0m )\n",
      "File \u001b[1;32m~\\AppData\\Roaming\\Python\\Python311\\site-packages\\ipykernel\\kernelbase.py:1245\u001b[0m, in \u001b[0;36mKernel._input_request\u001b[1;34m(self, prompt, ident, parent, password)\u001b[0m\n\u001b[0;32m   1242\u001b[0m \u001b[39mexcept\u001b[39;00m \u001b[39mKeyboardInterrupt\u001b[39;00m:\n\u001b[0;32m   1243\u001b[0m     \u001b[39m# re-raise KeyboardInterrupt, to truncate traceback\u001b[39;00m\n\u001b[0;32m   1244\u001b[0m     msg \u001b[39m=\u001b[39m \u001b[39m\"\u001b[39m\u001b[39mInterrupted by user\u001b[39m\u001b[39m\"\u001b[39m\n\u001b[1;32m-> 1245\u001b[0m     \u001b[39mraise\u001b[39;00m \u001b[39mKeyboardInterrupt\u001b[39;00m(msg) \u001b[39mfrom\u001b[39;00m \u001b[39mNone\u001b[39;00m\n\u001b[0;32m   1246\u001b[0m \u001b[39mexcept\u001b[39;00m \u001b[39mException\u001b[39;00m:\n\u001b[0;32m   1247\u001b[0m     \u001b[39mself\u001b[39m\u001b[39m.\u001b[39mlog\u001b[39m.\u001b[39mwarning(\u001b[39m\"\u001b[39m\u001b[39mInvalid Message:\u001b[39m\u001b[39m\"\u001b[39m, exc_info\u001b[39m=\u001b[39m\u001b[39mTrue\u001b[39;00m)\n",
      "\u001b[1;31mKeyboardInterrupt\u001b[0m: Interrupted by user"
     ]
    }
   ],
   "source": [
    "months = (\"Enero\", \"Febrero\", \"Marzo\", \"Abril\", \"Mayo\", \"Junio\", \"Julio\",\n",
    "\"Agosto\", \"Septiembre\", \"Octubre\", \"Noviembre\", \"Diciembre\")\n",
    "\n",
    "valor_correcto = False\n",
    "while not valor_correcto:\n",
    "    user = input(\"Dame un mes por favor: \").capitalize()\n",
    "\n",
    "    try:\n",
    "        number = months.index(user) + 1\n",
    "        valor_correcto = True\n",
    "        print(f\"{user} es el mes número {number}\")\n",
    "    except ValueError:\n",
    "        print(\"Ese mes no es válido. Por favor, revisa tu ortografía e \\\n",
    "introduce un mes de nuevo.\")\n"
   ]
  },
  {
   "cell_type": "markdown",
   "metadata": {},
   "source": [
    "## Ejercicio 5\n",
    "\n",
    "Volviendo a utilizar el método `index()` de las listas, a partir de una lista con los nombres de las personas que forman un grupo, solicita al usuario que introduzca un nombre y cuenta cuántas veces aparece dicho nombre en la lista."
   ]
  },
  {
   "cell_type": "code",
   "execution_count": 12,
   "metadata": {},
   "outputs": [
    {
     "name": "stdout",
     "output_type": "stream",
     "text": [
      "1\n"
     ]
    }
   ],
   "source": [
    "lista = [\"Elena\", \"María\", \"Mario\", \"Elena\", \"Juan\", \"Elena\", \"Pepe\"]\n",
    "\n",
    "nombre = input(\"Introduce un nombre:\")\n",
    "pos_inicio = 0 # Inicialmente empiezo a buscar desde el principio\n",
    "contador = 0\n",
    "finalizado = False\n",
    "\n",
    "while not finalizado:\n",
    "    try:\n",
    "        posicion = lista.index(nombre, pos_inicio)\n",
    "        pos_inicio = posicion + 1\n",
    "        contador += 1\n",
    "    except ValueError:\n",
    "        finalizado = True\n",
    "\n",
    "print(contador)"
   ]
  }
 ],
 "metadata": {
  "kernelspec": {
   "display_name": "Python 3",
   "language": "python",
   "name": "python3"
  },
  "language_info": {
   "codemirror_mode": {
    "name": "ipython",
    "version": 3
   },
   "file_extension": ".py",
   "mimetype": "text/x-python",
   "name": "python",
   "nbconvert_exporter": "python",
   "pygments_lexer": "ipython3",
   "version": "3.11.5"
  }
 },
 "nbformat": 4,
 "nbformat_minor": 2
}
